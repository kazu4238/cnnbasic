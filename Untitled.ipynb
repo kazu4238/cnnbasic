{
 "cells": [
  {
   "cell_type": "code",
   "execution_count": 15,
   "metadata": {},
   "outputs": [],
   "source": [
    "from PIL import Image  # ファイルを扱うためにos、ファイルの一覧を取得するためのパッケージglob\n",
    "import os, glob\n",
    "import numpy as np\n",
    "from sklearn.model_selection import StratifiedKFold  # ファイルを分割する\n",
    "\n",
    "classes = [\"monkey\", \"boar\", \"crow\"]\n",
    "num_classes = len(classes)\n",
    "image_size = 50\n",
    "\n",
    "# 画像の読み込み\n",
    "X = []  # 画像データを格納\n",
    "Y = []  # ラベルデータを格納\n",
    "for index, classlabel in enumerate(classes):\n",
    "    photos_dir = \"./\" + classlabel\n",
    "    files = glob.glob(photos_dir + \"/*.jpg\")  # パターン一致でファイル一覧を取得する\n",
    "    for i, file in enumerate(files):  # 写真に番号を付加\n",
    "        if i >= 200: break\n",
    "        image = Image.open(file)\n",
    "        image = image.convert(\"RGB\")  # RGBの256段階で示す数字に変換される\n",
    "        image = image.resize((image_size, image_size))  # 画像サイズの指定\n",
    "        data = np.asarray(image)  # 画像データを数字の配列に入れる\n",
    "        X.append(data)  # リストの最後に格納\n",
    "        Y.append(index)\n",
    "\n",
    "X = np.array(X) # numpyが扱えるようにnumpyの配列に変換する\n",
    "Y = np.array(Y)\n"
   ]
  },
  {
   "cell_type": "code",
   "execution_count": 16,
   "metadata": {},
   "outputs": [
    {
     "data": {
      "text/plain": [
       "array([[[111, 121,  93],\n",
       "        [169, 174, 141],\n",
       "        [145, 147, 117],\n",
       "        ...,\n",
       "        [126, 117,  85],\n",
       "        [ 87,  76,  56],\n",
       "        [ 56,  55,  39]],\n",
       "\n",
       "       [[148, 151, 128],\n",
       "        [130, 133, 114],\n",
       "        [ 44,  49,  45],\n",
       "        ...,\n",
       "        [127, 110,  80],\n",
       "        [ 76,  65,  37],\n",
       "        [ 50,  47,  26]],\n",
       "\n",
       "       [[128, 126, 106],\n",
       "        [ 41,  41,  39],\n",
       "        [ 67,  82,  57],\n",
       "        ...,\n",
       "        [112, 105,  79],\n",
       "        [ 96,  83,  55],\n",
       "        [ 39,  35,  15]],\n",
       "\n",
       "       ...,\n",
       "\n",
       "       [[177, 149, 106],\n",
       "        [168, 141,  91],\n",
       "        [109,  87,  59],\n",
       "        ...,\n",
       "        [168, 156, 142],\n",
       "        [249, 250, 250],\n",
       "        [254, 255, 255]],\n",
       "\n",
       "       [[183, 153, 115],\n",
       "        [151, 127,  89],\n",
       "        [124, 103,  70],\n",
       "        ...,\n",
       "        [193, 173, 147],\n",
       "        [225, 218, 216],\n",
       "        [255, 255, 255]],\n",
       "\n",
       "       [[174, 147, 110],\n",
       "        [148, 125,  90],\n",
       "        [132, 110,  75],\n",
       "        ...,\n",
       "        [190, 169, 145],\n",
       "        [200, 192, 187],\n",
       "        [255, 255, 255]]], dtype=uint8)"
      ]
     },
     "execution_count": 16,
     "metadata": {},
     "output_type": "execute_result"
    }
   ],
   "source": [
    "X[0]"
   ]
  },
  {
   "cell_type": "code",
   "execution_count": 17,
   "metadata": {},
   "outputs": [
    {
     "data": {
      "text/plain": [
       "600"
      ]
     },
     "execution_count": 17,
     "metadata": {},
     "output_type": "execute_result"
    }
   ],
   "source": [
    "len(X)"
   ]
  },
  {
   "cell_type": "code",
   "execution_count": 18,
   "metadata": {},
   "outputs": [
    {
     "data": {
      "text/plain": [
       "0"
      ]
     },
     "execution_count": 18,
     "metadata": {},
     "output_type": "execute_result"
    }
   ],
   "source": [
    "Y[100]"
   ]
  },
  {
   "cell_type": "code",
   "execution_count": 19,
   "metadata": {},
   "outputs": [
    {
     "ename": "NameError",
     "evalue": "name 'y' is not defined",
     "output_type": "error",
     "traceback": [
      "\u001b[0;31m---------------------------------------------------------------------------\u001b[0m",
      "\u001b[0;31mNameError\u001b[0m                                 Traceback (most recent call last)",
      "\u001b[0;32m<ipython-input-19-f627687021cd>\u001b[0m in \u001b[0;36m<module>\u001b[0;34m\u001b[0m\n\u001b[0;32m----> 1\u001b[0;31m \u001b[0my\u001b[0m\u001b[0;34m[\u001b[0m\u001b[0;36m300\u001b[0m\u001b[0;34m]\u001b[0m\u001b[0;34m\u001b[0m\u001b[0;34m\u001b[0m\u001b[0m\n\u001b[0m",
      "\u001b[0;31mNameError\u001b[0m: name 'y' is not defined"
     ]
    }
   ],
   "source": [
    "y[300]"
   ]
  },
  {
   "cell_type": "code",
   "execution_count": 20,
   "metadata": {},
   "outputs": [
    {
     "data": {
      "text/plain": [
       "1"
      ]
     },
     "execution_count": 20,
     "metadata": {},
     "output_type": "execute_result"
    }
   ],
   "source": [
    "Y[300]"
   ]
  },
  {
   "cell_type": "code",
   "execution_count": 21,
   "metadata": {},
   "outputs": [
    {
     "data": {
      "text/plain": [
       "2"
      ]
     },
     "execution_count": 21,
     "metadata": {},
     "output_type": "execute_result"
    }
   ],
   "source": [
    "Y[500]"
   ]
  },
  {
   "cell_type": "code",
   "execution_count": 22,
   "metadata": {},
   "outputs": [
    {
     "name": "stderr",
     "output_type": "stream",
     "text": [
      "/Users/kochikazuya/opt/anaconda3/envs/tf140/lib/python3.8/site-packages/numpy/core/_asarray.py:136: VisibleDeprecationWarning: Creating an ndarray from ragged nested sequences (which is a list-or-tuple of lists-or-tuples-or ndarrays with different lengths or shapes) is deprecated. If you meant to do this, you must specify 'dtype=object' when creating the ndarray\n",
      "  return array(a, dtype, copy=False, order=order, subok=True)\n"
     ]
    }
   ],
   "source": [
    "from PIL import Image  # ファイルを扱うためにos、ファイルの一覧を取得するためのパッケージglob\n",
    "import os, glob\n",
    "import numpy as np\n",
    "from sklearn import model_selection # ファイルを分割する\n",
    "\n",
    "classes = [\"monkey\", \"boar\", \"crow\"]\n",
    "num_classes = len(classes)\n",
    "image_size = 50\n",
    "\n",
    "# 画像の読み込み\n",
    "X = []  # 画像データを格納\n",
    "Y = []  # ラベルデータを格納\n",
    "for index, classlabel in enumerate(classes):\n",
    "    photos_dir = \"./\" + classlabel\n",
    "    files = glob.glob(photos_dir + \"/*.jpg\")  # パターン一致でファイル一覧を取得する\n",
    "    for i, file in enumerate(files):  # 写真に番号を付加\n",
    "        if i >= 200: break\n",
    "        image = Image.open(file)\n",
    "        image = image.convert(\"RGB\")  # RGBの256段階で示す数字に変換される\n",
    "        image = image.resize((image_size, image_size))  # 画像サイズの指定\n",
    "        data = np.asarray(image)  # 画像データを数字の配列に入れる\n",
    "        X.append(data)  # リストの最後に格納\n",
    "        Y.append(index)\n",
    "\n",
    "X = np.array(X) # numpyが扱えるようにnumpyの配列に変換する\n",
    "Y = np.array(Y)\n",
    "\n",
    "# トレーニング用とテスト用にデータを分割する\n",
    "X_train,X_test,Y_train,Y_test = model_selection.train_test_split(X,Y)\n",
    "# 分割して４つをまとめて変数に入れてファイルに保存し、プログラムから参照できるようにする\n",
    "xy = (X_train,X_test,Y_train,Y_test)\n",
    "np.save(\"./animal.npy\",xy)\n"
   ]
  },
  {
   "cell_type": "code",
   "execution_count": 26,
   "metadata": {},
   "outputs": [
    {
     "data": {
      "text/plain": [
       "150"
      ]
     },
     "execution_count": 26,
     "metadata": {},
     "output_type": "execute_result"
    }
   ],
   "source": [
    "len(Y_test)"
   ]
  },
  {
   "cell_type": "code",
   "execution_count": 27,
   "metadata": {},
   "outputs": [
    {
     "data": {
      "text/plain": [
       "array([[[146, 147, 139],\n",
       "        [146, 146, 138],\n",
       "        [148, 148, 139],\n",
       "        ...,\n",
       "        [115, 145, 173],\n",
       "        [114, 143, 174],\n",
       "        [111, 143, 174]],\n",
       "\n",
       "       [[151, 152, 143],\n",
       "        [149, 151, 141],\n",
       "        [151, 152, 142],\n",
       "        ...,\n",
       "        [124, 152, 172],\n",
       "        [124, 149, 175],\n",
       "        [122, 149, 174]],\n",
       "\n",
       "       [[155, 156, 146],\n",
       "        [153, 154, 143],\n",
       "        [154, 156, 144],\n",
       "        ...,\n",
       "        [138, 157, 170],\n",
       "        [139, 154, 168],\n",
       "        [140, 154, 168]],\n",
       "\n",
       "       ...,\n",
       "\n",
       "       [[123, 112, 117],\n",
       "        [124, 110, 114],\n",
       "        [124, 109, 110],\n",
       "        ...,\n",
       "        [126, 115, 107],\n",
       "        [129, 113, 109],\n",
       "        [128, 112, 106]],\n",
       "\n",
       "       [[126, 114, 114],\n",
       "        [124, 113, 112],\n",
       "        [123, 113, 111],\n",
       "        ...,\n",
       "        [129, 113, 101],\n",
       "        [132, 111,  98],\n",
       "        [132, 112,  96]],\n",
       "\n",
       "       [[129, 114, 115],\n",
       "        [127, 114, 113],\n",
       "        [127, 115, 113],\n",
       "        ...,\n",
       "        [134, 115,  96],\n",
       "        [136, 115,  99],\n",
       "        [137, 115,  98]]], dtype=uint8)"
      ]
     },
     "execution_count": 27,
     "metadata": {},
     "output_type": "execute_result"
    }
   ],
   "source": [
    "X_train[100]"
   ]
  },
  {
   "cell_type": "code",
   "execution_count": 28,
   "metadata": {},
   "outputs": [
    {
     "data": {
      "text/plain": [
       "array([[[  8,  35,   2],\n",
       "        [ 17,  36,   5],\n",
       "        [ 36,  60,   7],\n",
       "        ...,\n",
       "        [153, 221,   3],\n",
       "        [173, 227,  58],\n",
       "        [116, 128,  66]],\n",
       "\n",
       "       [[ 17,  35,   3],\n",
       "        [ 33,  51,   0],\n",
       "        [ 58,  81,   1],\n",
       "        ...,\n",
       "        [176, 241,   3],\n",
       "        [151, 215,   1],\n",
       "        [ 58,  77,   1]],\n",
       "\n",
       "       [[ 19,  33,  10],\n",
       "        [ 61,  88,   1],\n",
       "        [ 82, 113,   0],\n",
       "        ...,\n",
       "        [140, 204,   5],\n",
       "        [ 95, 147,   7],\n",
       "        [ 38,  54,   4]],\n",
       "\n",
       "       ...,\n",
       "\n",
       "       [[  1, 144,  96],\n",
       "        [  2, 151, 103],\n",
       "        [  1, 150,  99],\n",
       "        ...,\n",
       "        [ 16, 131,  50],\n",
       "        [  8, 131,  46],\n",
       "        [  4, 135,  51]],\n",
       "\n",
       "       [[  0, 139,  95],\n",
       "        [  4, 144,  94],\n",
       "        [  2, 145,  91],\n",
       "        ...,\n",
       "        [  8, 138,  52],\n",
       "        [  7, 133,  46],\n",
       "        [ 13, 131,  38]],\n",
       "\n",
       "       [[  1, 145,  99],\n",
       "        [  2, 144,  92],\n",
       "        [  0, 144,  89],\n",
       "        ...,\n",
       "        [  4, 150,  78],\n",
       "        [  5, 138,  68],\n",
       "        [ 11, 134,  59]]], dtype=uint8)"
      ]
     },
     "execution_count": 28,
     "metadata": {},
     "output_type": "execute_result"
    }
   ],
   "source": [
    "X_train[300]"
   ]
  },
  {
   "cell_type": "code",
   "execution_count": 29,
   "metadata": {},
   "outputs": [
    {
     "ename": "NameError",
     "evalue": "name 'y_train' is not defined",
     "output_type": "error",
     "traceback": [
      "\u001b[0;31m---------------------------------------------------------------------------\u001b[0m",
      "\u001b[0;31mNameError\u001b[0m                                 Traceback (most recent call last)",
      "\u001b[0;32m<ipython-input-29-eb8a8042b5b6>\u001b[0m in \u001b[0;36m<module>\u001b[0;34m\u001b[0m\n\u001b[0;32m----> 1\u001b[0;31m \u001b[0my_train\u001b[0m\u001b[0;34m[\u001b[0m\u001b[0;36m300\u001b[0m\u001b[0;34m]\u001b[0m\u001b[0;34m\u001b[0m\u001b[0;34m\u001b[0m\u001b[0m\n\u001b[0m",
      "\u001b[0;31mNameError\u001b[0m: name 'y_train' is not defined"
     ]
    }
   ],
   "source": [
    "y_train[300]"
   ]
  },
  {
   "cell_type": "code",
   "execution_count": 30,
   "metadata": {},
   "outputs": [
    {
     "data": {
      "text/plain": [
       "0"
      ]
     },
     "execution_count": 30,
     "metadata": {},
     "output_type": "execute_result"
    }
   ],
   "source": [
    "Y_train[300]"
   ]
  },
  {
   "cell_type": "code",
   "execution_count": 33,
   "metadata": {},
   "outputs": [
    {
     "data": {
      "text/plain": [
       "array([[[141, 175, 157],\n",
       "        [145, 177, 169],\n",
       "        [152, 176, 190],\n",
       "        ...,\n",
       "        [160, 139,  98],\n",
       "        [164, 139,  94],\n",
       "        [155, 130,  85]],\n",
       "\n",
       "       [[136, 163, 131],\n",
       "        [137, 165, 141],\n",
       "        [136, 164, 160],\n",
       "        ...,\n",
       "        [177, 157, 117],\n",
       "        [158, 140, 100],\n",
       "        [157, 141,  98]],\n",
       "\n",
       "       [[139, 158, 111],\n",
       "        [132, 156, 115],\n",
       "        [135, 164, 141],\n",
       "        ...,\n",
       "        [172, 150, 114],\n",
       "        [164, 140, 103],\n",
       "        [173, 150, 112]],\n",
       "\n",
       "       ...,\n",
       "\n",
       "       [[227, 191, 149],\n",
       "        [247, 217, 165],\n",
       "        [248, 207, 152],\n",
       "        ...,\n",
       "        [ 88,  51,  18],\n",
       "        [ 94,  51,  17],\n",
       "        [ 96,  53,  19]],\n",
       "\n",
       "       [[241, 203, 160],\n",
       "        [239, 202, 149],\n",
       "        [230, 193, 137],\n",
       "        ...,\n",
       "        [ 92,  50,  18],\n",
       "        [ 94,  52,  22],\n",
       "        [101,  56,  19]],\n",
       "\n",
       "       [[231, 193, 147],\n",
       "        [217, 180, 124],\n",
       "        [237, 199, 142],\n",
       "        ...,\n",
       "        [ 95,  52,  16],\n",
       "        [ 98,  52,  16],\n",
       "        [112,  61,  17]]], dtype=uint8)"
      ]
     },
     "execution_count": 33,
     "metadata": {},
     "output_type": "execute_result"
    }
   ],
   "source": [
    "X_train[449]"
   ]
  },
  {
   "cell_type": "code",
   "execution_count": 34,
   "metadata": {},
   "outputs": [
    {
     "data": {
      "text/plain": [
       "0"
      ]
     },
     "execution_count": 34,
     "metadata": {},
     "output_type": "execute_result"
    }
   ],
   "source": [
    "Y_train[449]"
   ]
  },
  {
   "cell_type": "code",
   "execution_count": null,
   "metadata": {},
   "outputs": [],
   "source": [
    "　"
   ]
  }
 ],
 "metadata": {
  "kernelspec": {
   "display_name": "Python 3",
   "language": "python",
   "name": "python3"
  },
  "language_info": {
   "codemirror_mode": {
    "name": "ipython",
    "version": 3
   },
   "file_extension": ".py",
   "mimetype": "text/x-python",
   "name": "python",
   "nbconvert_exporter": "python",
   "pygments_lexer": "ipython3",
   "version": "3.8.5"
  }
 },
 "nbformat": 4,
 "nbformat_minor": 4
}
